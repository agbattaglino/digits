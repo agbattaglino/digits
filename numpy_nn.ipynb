{
 "cells": [
  {
   "cell_type": "markdown",
   "metadata": {},
   "source": [
    "# Building a neural network classifier using numpy\n",
    "\n",
    "This is an original implementation of a neural network classifier using numpy.  Given a 2-D matrix of features and a corresponding set of labels, the **neuralNet** function is able to generate a classification model.  We first define several helper functions to calculate the gradient at each step, evaluate the cost function, make classifications, evaluate the sigmoid function, and split data into randomized batches.  We then show how to use **neuralNet** to classify digits from the MNIST dataset.  Each function's docstring describes its use."
   ]
  },
  {
   "cell_type": "code",
   "execution_count": 1,
   "metadata": {},
   "outputs": [],
   "source": [
    "import numpy as np\n",
    "import mnist\n",
    "import matplotlib.pyplot as plt"
   ]
  },
  {
   "cell_type": "code",
   "execution_count": 2,
   "metadata": {},
   "outputs": [],
   "source": [
    "def sig(z):\n",
    "    \"\"\" Return f(z) where f is the sigmoid function. \"\"\"\n",
    "\n",
    "    return 1. / (1 + np.exp(-1*z))"
   ]
  },
  {
   "cell_type": "code",
   "execution_count": 3,
   "metadata": {},
   "outputs": [],
   "source": [
    "def classify(X, weights, training = True):\n",
    "    \"\"\"\n",
    "    Return the relative likelihoods of each class for the given items.\n",
    "    \n",
    "    Parameters\n",
    "    ----------\n",
    "    X : array[n x m]\n",
    "        2-D feature matrix with n items and m features per item.\n",
    "    weights : list\n",
    "        The trained weights (obtained from neuralNet).\n",
    "    training : boolean\n",
    "        Default True.  Set to False if you are using this outside of the neuralNet function.\n",
    "\n",
    "\n",
    "    Returns\n",
    "    -------\n",
    "    hypothesis : array[n x c]\n",
    "        2-D matrix of hypotheses for each given item of X, where c is the number of classes.\n",
    "        Entry [i,j] contains the probabilty that item i is class j.  Use\n",
    "        np.argmax(hypothesis, axis=1) to get a 1-D array of predicted labels.\n",
    "    \"\"\"\n",
    "\n",
    "    n = X.shape[0]\n",
    "    lengthWeights = len(weights)\n",
    "    \n",
    "    if training == False:\n",
    "        X = np.hstack((np.ones((n, 1)), X))\n",
    "\n",
    "    aMat = []\n",
    "    z = np.matmul(weights[0], np.transpose(X))\n",
    "    aMat.append(np.transpose(np.vstack((np.ones((1, n)), sig(z)))))\n",
    "    for i in range(1, lengthWeights):\n",
    "        z = np.matmul(weights[i], np.transpose(aMat[i-1]))\n",
    "        aMat.append(np.transpose(np.vstack((np.ones((1, n)), sig(z)))))\n",
    "\n",
    "    return aMat[-1][:,1:]"
   ]
  },
  {
   "cell_type": "code",
   "execution_count": 4,
   "metadata": {},
   "outputs": [],
   "source": [
    "def calcCost(X, Y, weights, regLambda):\n",
    "    \"\"\"Calculate the value of the cross entropy cost function. \"\"\"\n",
    "    \n",
    "    n = X.shape[0]\n",
    "    numClass = Y.shape[1]\n",
    "    hypothesis = classify(X, weights)\n",
    "    \n",
    "    ## Calculate the cost due to error\n",
    "    cost = 0\n",
    "    for i in range(n):\n",
    "        for k in range(numClass):\n",
    "            cost += ( -1 * Y[i,k]*np.log(hypothesis[i,k]) - (1 - Y[i,k])*np.log(1 - hypothesis[i,k]) )\n",
    "    cost = cost / n\n",
    "    \n",
    "    ##Calculate the cost due to regularization\n",
    "    regCost = 0\n",
    "    for B in range(len(weights)):\n",
    "        regCost += np.sum(weights[B][:,1:] ** 2)\n",
    "    regCost = (regCost * regLambda) / (2*n)\n",
    "    \n",
    "    ## Total cost is the sum of error plus regularization\n",
    "    return (cost + regCost)"
   ]
  },
  {
   "cell_type": "code",
   "execution_count": 5,
   "metadata": {},
   "outputs": [],
   "source": [
    "def calcGrad(X, Y, weights, regLambda):\n",
    "    \"\"\"Calculate the gradient of the parameters with respect to the cost function. \"\"\"\n",
    "    \n",
    "    n = X.shape[0]\n",
    "    lengthWeights = len(weights)\n",
    "    \n",
    "    ## Calculate each activation value\n",
    "    aMat = []\n",
    "    z = np.matmul(weights[0], np.transpose(X))\n",
    "    aMat.append(np.transpose(np.vstack((np.ones((1, n)), sig(z)))))\n",
    "    for i in range(1, lengthWeights):\n",
    "        z = np.matmul(weights[i], np.transpose(aMat[i-1]))\n",
    "        aMat.append(np.transpose(np.vstack((np.ones((1, n)), sig(z)))))\n",
    "    aMat[-1] = aMat[-1][:,1:]\n",
    "    \n",
    "    ## Calculate deltas for use in backprop\n",
    "    deltaMat = [[]]*lengthWeights\n",
    "    deltaMat[-1] = aMat[-1] - Y\n",
    "    for i in range(lengthWeights-2, -1, -1):\n",
    "        deltaMat[i] = np.transpose(np.matmul(np.transpose(weights[i+1]), np.transpose(deltaMat[i+1]))) * \\\n",
    "                     (aMat[i] * (np.ones(aMat[i].shape) - aMat[i]))\n",
    "        deltaMat[i] = deltaMat[i][:,1:]\n",
    "    \n",
    "    ## Use activation and delta values to calulate the gradient\n",
    "    grad = []\n",
    "    grad.append(np.matmul(np.transpose(deltaMat[0]), X))\n",
    "    for i in range(1, lengthWeights):\n",
    "        grad.append(np.matmul(np.transpose(deltaMat[i]), aMat[i-1]))\n",
    "    \n",
    "    ## Adjust for regularization\n",
    "    for i in range(lengthWeights):\n",
    "        grad[i][:,1:] += regLambda * weights[i][:,1:]\n",
    "        grad[i] = grad[i] / n\n",
    "    \n",
    "    return grad"
   ]
  },
  {
   "cell_type": "code",
   "execution_count": 6,
   "metadata": {},
   "outputs": [],
   "source": [
    "def makeBatches(n, batchSize = 128):\n",
    "    \"\"\"Create randomized minibatches of a given size. \"\"\"\n",
    "    \n",
    "    miniBatches = []\n",
    "    permutation = list(np.random.permutation(n))\n",
    "    numCompleteBatches = int(np.floor(n / batchSize))\n",
    "    for k in range(numCompleteBatches):\n",
    "        miniBatches.append(permutation[k*batchSize:(k+1)*batchSize])\n",
    "    if n % batchSize != 0:\n",
    "        numMissing = n - numCompleteMinibatches*batchSize\n",
    "        miniBatches.append(permutation[-numMissing:])\n",
    "    return miniBatches"
   ]
  },
  {
   "cell_type": "code",
   "execution_count": 7,
   "metadata": {},
   "outputs": [],
   "source": [
    "def neuralNet(X, Y, layers, numEpochs, regLambda = .001, learnRate = .01, batchSize = 100, hot = False, weights_in = []):\n",
    "    \"\"\"\n",
    "    Trains a fully connected neural network.\n",
    "\n",
    "    Train a fully connected neural network using stochastic gradient descent with minibatches to\n",
    "    optimize a cross entropy loss function.  Backpropagation helps to calculate the gradient for\n",
    "    each training step.  The sigmoid activation function is used for all layers.  The user is able\n",
    "    to specify an L-2 regularization parameter, the minibatch size, the learning rate, and the number\n",
    "    of training epochs.  There is also functionality for hot runs using pre-trained weights.\n",
    "    \n",
    "    Parameters\n",
    "    ----------\n",
    "    X : array[n x m]\n",
    "        2-D feature matrix with n items and m features per item.\n",
    "    Y : array[n x c]\n",
    "        2-D label matrix with n items from c possible classes.  Should use one-hot encoding.\n",
    "    layers : list\n",
    "        A list specifiying the number and size of the hidden layers.  For example, to create a network\n",
    "        with two hidden layers of size 200 and 100 (in that order), then set layers = [200, 100].\n",
    "    numEpochs : int\n",
    "        Number of epochs to train the network for.  An epoch uses each training example exactly once.\n",
    "    regLambda : float\n",
    "        Default .001.  L-2 regularization parameter.  Set equal to 0 to disable regularization.\n",
    "    batchSize : int\n",
    "        Default 100.  The size of each minibatch used in SGD.\n",
    "    hot : boolean\n",
    "        Default False.  Indicates if weights are provided (True) or if randomized weights are\n",
    "        to be used (False).\n",
    "    weights_in : list\n",
    "        Default [].  Trained weights from a prior run.  If pretrained weights are to be used, then hot\n",
    "        must be set to True.\n",
    "    \n",
    "\n",
    "    Returns\n",
    "    -------\n",
    "    weights : list\n",
    "        The trained weights.  Use with the classify function to generate labels for given items.\n",
    "    costs : list\n",
    "        The value of the cost function evaluated at the end of each epoch.  len(costs) == numEpochs.\n",
    "\n",
    "    \"\"\"\n",
    "    n = X.shape[0]\n",
    "    numFeatures = X.shape[1]\n",
    "    numClass = Y.shape[1]\n",
    "    \n",
    "    ## Add bias term\n",
    "    X = np.hstack((np.ones((n, 1)), X))\n",
    "    \n",
    "    ## Initialize weights (or take pre-trained weights if it's a hot run)\n",
    "    weights = []\n",
    "    if hot == True:\n",
    "        weights = weights_in\n",
    "    else:\n",
    "        allLayers = [numFeatures] + layers + [numClass]\n",
    "        for i in range(len(allLayers) - 1):\n",
    "            weights.append((2 * np.random.uniform(size=(allLayers[i+1], allLayers[i]+1)) - 1) * (1. / np.sqrt(allLayers[i])))\n",
    "    \n",
    "    ## Perform stochastic gradient descent\n",
    "    costs = []\n",
    "    for epoch in range(numEpochs):\n",
    "        cost = 0\n",
    "        batches = makeBatches(n, batchSize = batchSize)\n",
    "        for batch in batches:\n",
    "            grad = calcGrad(X[batch, :], Y[batch, :], weights, regLambda)\n",
    "            for k in range(len(weights)):\n",
    "                weights[k] -= learnRate*grad[k]\n",
    "            cost += calcCost(X[batch, :], Y[batch, :], weights, regLambda) / len(batches)\n",
    "        costs.append(cost)\n",
    "        print(\"Finished \" + str(epoch+1) + \" out of \" + str(numEpochs) + \" epochs.  Cost: \" + str(cost))\n",
    "    \n",
    "    return weights, costs"
   ]
  },
  {
   "cell_type": "markdown",
   "metadata": {},
   "source": [
    "## 1. Read in the MNIST data\n",
    "\n",
    "First, we read the MNIST data and save it into numpy arrays.  Each record is a 28x28 pixel image of a handwritten digit.  We flatten the images to form our 2-D feature matrices.  Training and testing sets are given explicitly, so there is no need for us to make a split.  The labels are given as a 1-D array, which we use to form 2-D one-hot encoded label arrays.  The only pre-processing we do is to scale the pixel values.  Given values are in the range of 0 to 255, so we scale each value by (1/255)."
   ]
  },
  {
   "cell_type": "code",
   "execution_count": 8,
   "metadata": {},
   "outputs": [],
   "source": [
    "trainImages = mnist.train_images().reshape(60000, 28**2) / 255.\n",
    "trainLabelsFlat = mnist.train_labels()\n",
    "testImages = mnist.test_images().reshape(10000, 28**2) / 255.\n",
    "testLabelsFlat = mnist.test_labels()\n",
    "\n",
    "trainLabels = np.zeros((60000, 10))\n",
    "testLabels = np.zeros((10000, 10))\n",
    "trainLabels[np.arange(60000), trainLabelsFlat] = 1\n",
    "testLabels[np.arange(10000), testLabelsFlat] = 1"
   ]
  },
  {
   "cell_type": "markdown",
   "metadata": {},
   "source": [
    "## 2. Train a neural network classifier\n",
    "\n",
    "Using our images and labels, we train a neural network to classifier.  We specifiy that we want:\n",
    " - Two fully connected hidden layers.  The first has 400 nodes, and the second has 50 nodes.\n",
    " - Train for 40 epochs.\n",
    " - Use an L-2 regularization parameter of .001\n",
    " - Use a learning rate of 1\n",
    " - Set the batch size to 100 (meaning there will be 600 batches per training epoch)"
   ]
  },
  {
   "cell_type": "code",
   "execution_count": 9,
   "metadata": {},
   "outputs": [
    {
     "name": "stdout",
     "output_type": "stream",
     "text": [
      "Finished 1 out of 40 epochs.  Cost: 1.5389978346111362\n",
      "Finished 2 out of 40 epochs.  Cost: 0.4160876703139998\n",
      "Finished 3 out of 40 epochs.  Cost: 0.27727000840114374\n",
      "Finished 4 out of 40 epochs.  Cost: 0.2046831780994333\n",
      "Finished 5 out of 40 epochs.  Cost: 0.15902820652174426\n",
      "Finished 6 out of 40 epochs.  Cost: 0.12997450728842164\n",
      "Finished 7 out of 40 epochs.  Cost: 0.10850111618517745\n",
      "Finished 8 out of 40 epochs.  Cost: 0.09353711724978815\n",
      "Finished 9 out of 40 epochs.  Cost: 0.08188165666110093\n",
      "Finished 10 out of 40 epochs.  Cost: 0.07215910305149471\n",
      "Finished 11 out of 40 epochs.  Cost: 0.0640160309216756\n",
      "Finished 12 out of 40 epochs.  Cost: 0.05890813332896807\n",
      "Finished 13 out of 40 epochs.  Cost: 0.05348004161705373\n",
      "Finished 14 out of 40 epochs.  Cost: 0.049381636291995525\n",
      "Finished 15 out of 40 epochs.  Cost: 0.046518528434378294\n",
      "Finished 16 out of 40 epochs.  Cost: 0.04381537296014138\n",
      "Finished 17 out of 40 epochs.  Cost: 0.04158499497374391\n",
      "Finished 18 out of 40 epochs.  Cost: 0.03982140871981321\n",
      "Finished 19 out of 40 epochs.  Cost: 0.03832808341964267\n",
      "Finished 20 out of 40 epochs.  Cost: 0.03708864199557613\n",
      "Finished 21 out of 40 epochs.  Cost: 0.03622460918594051\n",
      "Finished 22 out of 40 epochs.  Cost: 0.03543405590517857\n",
      "Finished 23 out of 40 epochs.  Cost: 0.03476929691604416\n",
      "Finished 24 out of 40 epochs.  Cost: 0.034239882759591986\n",
      "Finished 25 out of 40 epochs.  Cost: 0.03378076371156665\n",
      "Finished 26 out of 40 epochs.  Cost: 0.033235827036586334\n",
      "Finished 27 out of 40 epochs.  Cost: 0.032839623724601384\n",
      "Finished 28 out of 40 epochs.  Cost: 0.03249024485227853\n",
      "Finished 29 out of 40 epochs.  Cost: 0.032270355841068625\n",
      "Finished 30 out of 40 epochs.  Cost: 0.03197747944112298\n",
      "Finished 31 out of 40 epochs.  Cost: 0.031739440808460015\n",
      "Finished 32 out of 40 epochs.  Cost: 0.03150911951522348\n",
      "Finished 33 out of 40 epochs.  Cost: 0.031372334419575265\n",
      "Finished 34 out of 40 epochs.  Cost: 0.03121940094046076\n",
      "Finished 35 out of 40 epochs.  Cost: 0.031055105677255248\n",
      "Finished 36 out of 40 epochs.  Cost: 0.03097110454096461\n",
      "Finished 37 out of 40 epochs.  Cost: 0.030803097387107153\n",
      "Finished 38 out of 40 epochs.  Cost: 0.030656984698211116\n",
      "Finished 39 out of 40 epochs.  Cost: 0.030570594536524567\n",
      "Finished 40 out of 40 epochs.  Cost: 0.030444499850128842\n"
     ]
    }
   ],
   "source": [
    "weights, costs_1 = neuralNet(trainImages,\n",
    "                             trainLabels,\n",
    "                             layers = [400,50],\n",
    "                             numEpochs = 40,\n",
    "                             regLambda = .001,\n",
    "                             learnRate = 1,\n",
    "                             batchSize = 100)"
   ]
  },
  {
   "cell_type": "markdown",
   "metadata": {},
   "source": [
    "## 3. Plot the cost function (phase 1)\n",
    "\n",
    "We can see that the cost function appears to be improving each epoch, so let's plot it:"
   ]
  },
  {
   "cell_type": "code",
   "execution_count": 15,
   "metadata": {},
   "outputs": [
    {
     "data": {
      "text/plain": [
       "Text(0.5, 1.0, 'Value of cost function (first phase)')"
      ]
     },
     "execution_count": 15,
     "metadata": {},
     "output_type": "execute_result"
    },
    {
     "data": {
      "image/png": "[encoded data removed]",
      "text/plain": [
       "<Figure size 432x288 with 1 Axes>"
      ]
     },
     "metadata": {
      "needs_background": "light"
     },
     "output_type": "display_data"
    }
   ],
   "source": [
    "plt.plot(costs_1)\n",
    "plt.xlabel(\"Epoch\")\n",
    "plt.title(\"Value of cost function (first phase)\")"
   ]
  },
  {
   "cell_type": "markdown",
   "metadata": {},
   "source": [
    "## 4. Fine tuning\n",
    "\n",
    "Let's use **neuralNet**'s ability to take pre-trained weights and do some fine tuning.  We will decrease the learning rate by a factor of 10 and train for another 40 epochs."
   ]
  },
  {
   "cell_type": "code",
   "execution_count": 10,
   "metadata": {},
   "outputs": [
    {
     "name": "stdout",
     "output_type": "stream",
     "text": [
      "Finished 1 out of 40 epochs.  Cost: 0.03171031977792799\n",
      "Finished 2 out of 40 epochs.  Cost: 0.03158667371820139\n",
      "Finished 3 out of 40 epochs.  Cost: 0.031550871808612574\n",
      "Finished 4 out of 40 epochs.  Cost: 0.03151721714276342\n",
      "Finished 5 out of 40 epochs.  Cost: 0.03149563755002712\n",
      "Finished 6 out of 40 epochs.  Cost: 0.031473671314591126\n",
      "Finished 7 out of 40 epochs.  Cost: 0.03145794520941362\n",
      "Finished 8 out of 40 epochs.  Cost: 0.03144589538350334\n",
      "Finished 9 out of 40 epochs.  Cost: 0.031424606782286035\n",
      "Finished 10 out of 40 epochs.  Cost: 0.03141200466194094\n",
      "Finished 11 out of 40 epochs.  Cost: 0.03139340545970976\n",
      "Finished 12 out of 40 epochs.  Cost: 0.031375225358035594\n",
      "Finished 13 out of 40 epochs.  Cost: 0.03136476122708967\n",
      "Finished 14 out of 40 epochs.  Cost: 0.03134752991933193\n",
      "Finished 15 out of 40 epochs.  Cost: 0.03133527804158773\n",
      "Finished 16 out of 40 epochs.  Cost: 0.031316285341335175\n",
      "Finished 17 out of 40 epochs.  Cost: 0.031300536650286974\n",
      "Finished 18 out of 40 epochs.  Cost: 0.0312876386160402\n",
      "Finished 19 out of 40 epochs.  Cost: 0.031275405031765305\n",
      "Finished 20 out of 40 epochs.  Cost: 0.03125718754366618\n",
      "Finished 21 out of 40 epochs.  Cost: 0.031249083671665512\n",
      "Finished 22 out of 40 epochs.  Cost: 0.031229337821075235\n",
      "Finished 23 out of 40 epochs.  Cost: 0.03121783437748388\n",
      "Finished 24 out of 40 epochs.  Cost: 0.031203260194514852\n",
      "Finished 25 out of 40 epochs.  Cost: 0.03118635271783403\n",
      "Finished 26 out of 40 epochs.  Cost: 0.03116808032359092\n",
      "Finished 27 out of 40 epochs.  Cost: 0.03116445715168999\n",
      "Finished 28 out of 40 epochs.  Cost: 0.031148262715550105\n",
      "Finished 29 out of 40 epochs.  Cost: 0.03113696045302834\n",
      "Finished 30 out of 40 epochs.  Cost: 0.03112566743814018\n",
      "Finished 31 out of 40 epochs.  Cost: 0.031106727562974897\n",
      "Finished 32 out of 40 epochs.  Cost: 0.03109161967103006\n",
      "Finished 33 out of 40 epochs.  Cost: 0.031078716906133258\n",
      "Finished 34 out of 40 epochs.  Cost: 0.031065467581353052\n",
      "Finished 35 out of 40 epochs.  Cost: 0.0310624610386762\n",
      "Finished 36 out of 40 epochs.  Cost: 0.031032615371326736\n",
      "Finished 37 out of 40 epochs.  Cost: 0.031037127975974816\n",
      "Finished 38 out of 40 epochs.  Cost: 0.031018078145915742\n",
      "Finished 39 out of 40 epochs.  Cost: 0.031008897176133077\n",
      "Finished 40 out of 40 epochs.  Cost: 0.03099136116526255\n"
     ]
    }
   ],
   "source": [
    "weights, costs_2 = neuralNet(trainImages,\n",
    "                             trainLabels,\n",
    "                             layers = [400,50],\n",
    "                             numEpochs = 40,\n",
    "                             regLambda = .001,\n",
    "                             learnRate = .1,\n",
    "                             batchSize = 100,\n",
    "                             hot = True,\n",
    "                             weights_in = weights)"
   ]
  },
  {
   "cell_type": "markdown",
   "metadata": {},
   "source": [
    "## 5. Plot the cost function (phase 2)\n",
    "\n",
    "We can see that the cost function is still improving, albeit slowly.  It hasn't levelled out so we could potentially do even more fine tuning."
   ]
  },
  {
   "cell_type": "code",
   "execution_count": 13,
   "metadata": {},
   "outputs": [
    {
     "data": {
      "text/plain": [
       "Text(0.5, 1.0, 'Value of cost function (second phase)')"
      ]
     },
     "execution_count": 13,
     "metadata": {},
     "output_type": "execute_result"
    },
    {
     "data": {
      "image/png": "[encoded data removed]",
      "text/plain": [
       "<Figure size 432x288 with 1 Axes>"
      ]
     },
     "metadata": {
      "needs_background": "light"
     },
     "output_type": "display_data"
    }
   ],
   "source": [
    "plt.plot(costs_2)\n",
    "plt.xlabel(\"Epoch\")\n",
    "plt.title(\"Value of cost function (second phase)\")"
   ]
  },
  {
   "cell_type": "markdown",
   "metadata": {},
   "source": [
    "## 6. Measure the training and validation accuracy\n",
    "\n",
    "Using our trained model, we get near 100% accuracy on the training set and 98.3% accuracy on the validation set.  We know that the most sophistocated models achieve 99.8% accuracy, so our very simple model that uses minimal preprocesing, no convulation layers, and sigmoid activations only lags by 1.5%."
   ]
  },
  {
   "cell_type": "code",
   "execution_count": 14,
   "metadata": {},
   "outputs": [
    {
     "name": "stdout",
     "output_type": "stream",
     "text": [
      "Training accuracy: 0.9999833333333333\n",
      "Validation accuracy: 0.983\n"
     ]
    }
   ],
   "source": [
    "predTrainLabels = np.argmax(classify(trainImages, weights, training = False), axis=1)\n",
    "predTestLabels = np.argmax(classify(testImages, weights, training = False), axis=1)\n",
    "numCorrectTrain = np.sum(predTrainLabels == trainLabelsFlat)\n",
    "numCorrectTest = np.sum(predTestLabels == testLabelsFlat)\n",
    "print(\"Training accuracy: \" + str(numCorrectTrain / len(trainLabelsFlat)))\n",
    "print(\"Validation accuracy: \" + str(numCorrectTest / len(testLabelsFlat)))"
   ]
  },
  {
   "cell_type": "code",
   "execution_count": null,
   "metadata": {},
   "outputs": [],
   "source": []
  }
 ],
 "metadata": {
  "kernelspec": {
   "display_name": "Python 3",
   "language": "python",
   "name": "python3"
  },
  "language_info": {
   "codemirror_mode": {
    "name": "ipython",
    "version": 3
   },
   "file_extension": ".py",
   "mimetype": "text/x-python",
   "name": "python",
   "nbconvert_exporter": "python",
   "pygments_lexer": "ipython3",
   "version": "3.6.8"
  }
 },
 "nbformat": 4,
 "nbformat_minor": 2
}
